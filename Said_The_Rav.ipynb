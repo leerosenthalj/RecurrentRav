{
 "cells": [
  {
   "cell_type": "code",
   "execution_count": 1,
   "metadata": {},
   "outputs": [],
   "source": [
    "import os\n",
    "# Disable tensorflow warning messages.\n",
    "os.environ['TF_CPP_MIN_LOG_LEVEL'] = '3' \n",
    "\n",
    "import pandas as pd\n",
    "import numpy as np\n",
    "import tensorflow as tf"
   ]
  },
  {
   "cell_type": "markdown",
   "metadata": {},
   "source": [
    "# RecurrentRav: A Recurrent Neural Network Taught to Write Pseudo-Mishnah"
   ]
  },
  {
   "cell_type": "markdown",
   "metadata": {},
   "source": [
    "## 1. What's a Neural Network?"
   ]
  },
  {
   "cell_type": "markdown",
   "metadata": {},
   "source": [
    "A recurrent neural network (RNN) is an algorithm that identifies patterns in sequences of numbers,  can use those patterns to predict the next number in a sequence, and therefore can generate sequences that satisfy learned patterns. By mapping the characters and letters of a language to unique numbers, we can use RNNs to generate synthetic texts with the style of some real text. For example, we could train a RNN on all of Shakespeare's plays, then use our RNN to compose pseudo-Shakespearean plays! Here's an example, taken from Andrej Karpathy's ['The Unreasonable Effectiveness of Recurrent Neural Networks'](http://karpathy.github.io/2015/05/21/rnn-effectiveness/):"
   ]
  },
  {
   "cell_type": "markdown",
   "metadata": {},
   "source": [
    "-------------------------------------------------------------\n",
    "\n",
    "PANDARUS: <br>\n",
    "Alas, I think he shall be come approached and the day <br>\n",
    "When little srain would be attain'd into being never fed, <br>\n",
    "And who is but a chain and subjects of his death, <br>\n",
    "I should not sleep. <br>\n",
    "\n",
    "Second Senator: <br>\n",
    "They are away this miseries, produced upon my soul, <br>\n",
    "Breaking and strongly should be buried, when I perish <br>\n",
    "The earth and thoughts of many states. <br>\n",
    "\n",
    "DUKE VINCENTIO: <br>\n",
    "Well, your wit is in the care of side and that. <br>\n",
    "\n",
    "Second Lord: <br>\n",
    "They would be ruled after this chamber, and <br>\n",
    "my fair nues begun out of the fact, to be conveyed, <br>\n",
    "Whose noble souls I'll have the heart of the wars. <br>\n",
    "\n",
    "Clown: <br>\n",
    "Come, sir, I will make did behold your worship.\n",
    "\n",
    "VIOLA: <br>\n",
    "I'll drink it.\n",
    "\n",
    "-------------------------------------------------------------"
   ]
  },
  {
   "cell_type": "markdown",
   "metadata": {},
   "source": [
    "For detailed descriptions of how RNNs work, check out Andrej's blog, [Google's RNN Text Generation Tutorial](https://www.tensorflow.org/tutorials/text/text_generation) (from which I have drawn substantially for the work shown here), and many other online sources. In short, a RNN is a set of mathematical operators that, given some ordered set of values, predict the next value in that sequence. We can 'train' an RNN to imitate a given text by feeding the algorithm many N-character sequences of that text, including the character that immediately follows that sequence, and tweaking the RNN's mathematical operators so that it successfully predicts the N+1th character of each sequence. "
   ]
  },
  {
   "cell_type": "markdown",
   "metadata": {},
   "source": [
    "## 2. What does this have to do with the Mishnah?"
   ]
  },
  {
   "cell_type": "markdown",
   "metadata": {},
   "source": [
    "Nothing, at least not at first glance. However, the Mishnah can be treated as an ordered sequence of characters (letters, vowels, spaces, etc.) just like any other text. So let's train a recurrent neural network on the entire Mishnah, and see what we can create!"
   ]
  },
  {
   "cell_type": "markdown",
   "metadata": {},
   "source": [
    "## 3. Let's write some fake Mishnah!"
   ]
  },
  {
   "cell_type": "markdown",
   "metadata": {},
   "source": [
    "In order to train a neural net on the Mishnah, we first cleaned Sefaria's raw text files so that they can be uniformly converted from string characters into sequences of numbers. We performed this cleaning in the Clean_Texts notebook in this repo. We then transitioned into the Train_The_Rav notebook and converted the cleaned text into sequences of numbers."
   ]
  },
  {
   "cell_type": "markdown",
   "metadata": {},
   "source": [
    "Next, in the Train_The_Rav notebook, we used Tensorflow, Google's machine learning library, to build a Recurrent Neural Network with a memory of 200 characters. In practice, this means that our network (referred to as RecurrentRav or RR from here on out) has a memory of a little less than 100 Hebrew letters, since vowels, spaces, puntucation, and new lines count as unique characters. This means that RecurrentRav has a short enough memory that it won't just parrot back long sections of Mishnah, but a long enough memory that it can interpret text across several full sentences, as well as across mishnayot, perachim, and masechtot (and sedarim, although those transitions are not necessarily meaningful)."
   ]
  },
  {
   "cell_type": "markdown",
   "metadata": {},
   "source": [
    "We split our cleaned Mishnah text into many training batches of 400 characters apiece, and optimized RecurrentRav on these batches. The result is an RNN that we can use to generate Mishnah-esque text, given a starting set of characters and some tunable parameters. Here is an example, given the input 'בְּ':"
   ]
  },
  {
   "cell_type": "markdown",
   "metadata": {},
   "source": [
    "אֵלּוּ טֹא בְעוֹלוֹת, וּבָהֲרוּסוֹ. וְהַמְחֻבָּרִין בַּקַּרְק עַל יְדֵי עַצְמוֹ, אֵינוֹ חַיָּב אֶלָּא אַחַת. שְׁבוּעַת הַפַּת, וּפָתוּחַ לִרְשׁוּת הָרַבִּים, עַד שֶׁתִּכָּנֵס לַחֲבֵרוֹ, הֲרֵי הַשֵּׁנִי לִתֵּן לָהּ כְּתֻבָּתָהּ שִׁבְעָה זִכְרֵי כֹהֲנִים וְהַגַּיְדְּנִין עָלֶיהָ פְּרוֹזְבּוּל, רוֹעֶה הַבָּנִים אֲחֻזָּה לִשְׂדֵהָה שְׁבִיעִית מֵעֲבֵרוֹ וְאֵין לוֹ חֲזָקָה, וְיֵשׁ אוֹמְרִים, עַל הַחַר הַנָּחָשׁ, מִיתָתָן זֶל מִזַּב תְּרוּמָה, וּמַת בַּמַּעֲשֵׂר, אֵינָהּ כְּבָת. אָמַר לוֹ רַבִּי יְהוּדָה. וְרַבִּי שִׁמְעוֹן מְטַהֵר, וַחֲכָמִים מְטַהֲרִין. הַצִּיד אָנִי. אָמְרוּ לוֹ,"
   ]
  },
  {
   "cell_type": "markdown",
   "metadata": {},
   "source": [
    "To generate your own text with RecurrentRav, go to the Train_The_Rav notebook and load the existing model, or train your own with preferred parameters (character memory, batch size, etc.). Here are a few more examples, all of them generated from a single letter or word as input."
   ]
  },
  {
   "cell_type": "markdown",
   "metadata": {},
   "source": [
    "אֵיזֶהוּ עָרִיס, טַמִּין וְחֶצְיָן לְמַרְחִיקִין וְנִמְלְכוְ וְאֵינוֹ בְכוֹר לַנַּחֲלָה וְלֹא בְמֶלַח וְלֹא מְקַיֵּם, וְאֵינוֹ שָׁוֶה אֶלָּא בִשְׁבוּעָה. כְּדֵי גְמִי יָמִים לִכְלִי קִשּׁוּת אֶחָת. מַעְשַׂר עָנִי שֶׁיָבֹא לָצֵאת בְּכַבֵּיצָה, שֶׁבֵּינוֹ לְבַשֵּׁל בְּחָל עִם כְּרֹנָה. בַּעֲשָׂרָה עָלָיו, וּמָאתַיִם, וְאֵין אָד, עַד שֶׁיֻּדַּן ה' הַמַּעֲלָה אוֹכֶלֶת בְּתוֹךְ בֵּיתוֹ לְקַיְּמָהּ וּמִצָּה הָרִאשׁוֹנָה שֵׁנִי. לִמְחֻבָּר לַשֵּׁם אֶת עוֹר, מֵי שְׁלשָׁה יָמִים, קִנְיָן. וְאִם לָאו, הֲרֵי הֵן כְּאַחַת, וּמוֹכֵר אֶת הַבְּרֵכָה, הַצָּף מִדַּת כַּאֲנָשִׁים שֶׁלֹּא בִכְּרוּ וְתָבְעָהּ מִן הַחֲלָבָיו. וְשֶׁהָיָה מִתְכַּוֵּן לִהְיוֹת מַנִּיחִין אוֹתוֹ, וְנוֹלֵף לָהּ מִטַּמֵּא לַמֵּתִים. לֹא יִמְכְּרוּ אֶלָּא חֲמִשִּׁים זוּז, אֵין יָכוֹל לְחֻלִּין, אַף כָּל דָּבָר שֶׁהוּא מִשּׁוּם שְׁנֵי קְבִירָה עוֹשִׂים תְּמוּרָה"
   ]
  },
  {
   "cell_type": "markdown",
   "metadata": {},
   "source": [
    "לֹכֶם מִן הַמֵּת, נוֹטֵל תְּשִׁיעֶזֶר אוֹמֵר, אֵין מְמִיחִין הֶעָרֵב. חָלְצוּ לְתוֹךְ שָׂדֶהוּ. אָכְלָהּ וְהִשְׁלִים בֵּין לַחֶבֶל, וְחָזְרָה אֶצְלָהּ. וּבֵית הִלֵּל מַתִּירִין: \n",
    "הַמַּעֲשֵׂר עָבְרוּ בֵית הִלֵּל לְבֵיתוֹ, אָבִינוּ עַל יְדֵי צָלוֹת אָבִיו, וְאֶת בְּנוֹ וּבֵית הַשְּׁלָחִין, וְהֶחָזֶרֶת וְחָפִין. הַלּוֹמֵד בַּחוּץ, וּבָהּ שְׁלֹשָׁה עַל שְׁלֹשָׁה מִלְמַעְלָן וְאֵינוֹ חַיָּב בָּהּ. אֵלּוּ הֵן מַשִּׂיאִין אֶת הָעָרְלָה, כִּי טַבַּעַת וְנַעֲשֵׂית עֲגֻלָּה, הָאוֹחֲזָיו מַרְאוֹת אוֹר אַחֲרֵיהֶם, אֶל יָחִיד, וָמֵת, לֹא עָכָה בָהֶן נָשִׁים, תֵּצֵא וְתִרְעֶה בָעֵדֶר. מִשֶּׁיַּסִּיקֶנּוּ, פְּטוּרִין. וְעַל קְטַנָּה בַת יִשְׂרָאֵל שֶׁנִּסֵּת לְיִשְׂרָאֵל, וְהִשִּׂיאוּ אַמְרֹאשׁ בִּזְמַן שֶׁהִיא לוֹקֶה אַרְבָּעִים. אֲבָל הוֹדוּ לוֹ חֲכָמִים. וְכֵן שְׁתֵּי גְרוֹנִין, אֶחָד בִּכְלִי אֶחָד, אֲפִלּוּ בְחֶזְקַת טֻמְאָה. הַחִיצוֹן מְחַלֶּה. הֻתַּר אֶחָד, כָּבוּשׁ שֶׁאֵין בָּהֶן כַּמָּה הֶדְיוֹט, הֶעֱבִירוֹ עַל גַּבֵּי שְׁלֹשָׁה, וּשְׁנֵי פַר דַּרְכִּיל, שָׂעִיר הַגִּתּוֹת טְהוֹרוֹת וְהֶחֱזִירָהּ, פְּסוּלָה, שֶׁרַגְלַיִם, לֹא דָנִין אוּחוֹ בְעוֹלֶה מִדְּמֵי שְׁבִיעִית. הַמַּסְפֵּר, קָצַר חֲצוֹצְרוֹת וּנְשָׁכוֹת, בְּקִילוֹן, רַבִּי שִׁמְעוֹן אוֹמֵר, הַטְּרֵפָה, וְיוֹצֵא דֹפֶן: \n",
    "יַסִּיקֵם מַשְׁקֶה טוֹפֵחַ מִלְּמַטָּן, טְהוֹרִין. מוֹתַר רְשׁוּת הָרַבִּים לִשְׁתֵּים עֶשְׂרֵה צְרִיכִין שֶׁבְּיִשְׂרָאֵל, אִם יֶשׁ בּוֹ בְנִי, אוֹ שֶׁאָבְדוּ חִנָּיו. וְאִם יֶשׁ לָהֶן סְתוּמַת מַעֲשֵׂר, וּפוֹסֶלֶת בַּשְּׁבִיעִית, וּבִרְחוֹבָיו כִּירָה. "
   ]
  },
  {
   "cell_type": "markdown",
   "metadata": {},
   "source": [
    "מְַּיָח, מַה הוּא. חַטַּאת הָעוֹף טָמֵא. הָיוּ שְׁנֵיהֶם שָׁוִין. אָמַר רַבִּי מֵאִיר, לֹא הָיִיתִי, הָעוֹלָה תִּקְרַב עוֹלָה, וְזֶה הַלּוּחַ בְּנֵי חַרְבַּיִם. בָּרִאשׁוֹנָה הָיוּ פְטוּרִין, דִּבְרֵי רַבִּי מֵאִיר. וַחֲכָמִים אוֹמְרִים, פְּעָמִים שֶׁהוּא בְחֶזְקָתָן, אֲפִלּוּ כְשֵׁרִים בְּמַשְׁקִים, מוֹחֲצִי אֶת דָּמוֹ. צָלְכֵי מָעוֹת, כְּדֵי לָמוּל בְּנַטּ, הֲרֵי זֶה יָכוֹל לַהֲסִיטָן, טְהוֹרִין. רַבִּי יְהוּדָה אוֹסֵר, הַמֵּת מְשַׁמֵּשׁ כְּנֶגֶד אֲרֻבָּה, הַבַּיִת טָמֵא. טֻמְאָה בַבַּיִת, מַה בּוֹ שֶׁל חֻלִּין, שֶׁנֶּאֱמַר (במדבר טז), וְנֶאֱכָלִים לִפְנִים מִן הַקְּלָעִים, קָרָאוּ לְאַחַר זְמָן. אָמַר רַבִּי עֲקִיבָא, אֲנִי אֲדַסֵּט בָּהּ. אָמְרוּ לוֹ אֱמֹר, אִם הָעוֹן עָשָׂר חֹדֶשׁ. מִשְׁפַּט אֶחָד, חַיָּב עַל הַשְּׁבוּעָה כִשְׁתֵּי הָאִילָן. אֲבָל עִמָּהּ טַעַם דָּבָר שֶׁדַּרְכּוֹ לְהַקְטִיר, דַּיָּהּ שְׁעָתָהּ. וְיֵשׁ אוֹכְלוֹת מַשְׁקִין יְבֵשִׁין, לְהָבִיא אֶת יְשָׁלָה שֶׁל יִשְׂרָאֵל, אָסוּר. קָדָשִׁים בִּירוּשָׁלַיִם, וְהָיוּ עֵדָיוָהָיְתָה בָאָרֶץ, וְחַלָּה נוֹהֵג בַּיָּבֵשׁ, עֵדוּלָה מוֹה, כֵּן מִקָּרְבְּנוֹתָיִם. כֵּיצַד מַעֲלִין לוֹ חֶסַּאי הָיָה מַכְנִיס, מֵנִיחַ יַעֲקֹב, וַחֲכָמִים פּוֹטְרִין. הַמַּנְהִיג נְסָכִים לֶאֱכֹל יֶשׁ בּוֹ אָמוּר וְדִבּוּרִי עֵדֶם לִכְתֹּב חֶזְקָתוֹ:\n",
    "\n",
    "נִפְתַּח אַחַד מֵהֶן וְלֹא שְׁנַיִם, חַיָּבִין. וּשְׁאָר כָּל הַיּוֹם כָּל שֶׁהֵן, פְּסוּלִין. חֲמִשָּׁה דְבָרִים רַבָּן גַּמְלִיאֵל גּוֹלֶה. רַבִּי יְהוּדָה אוֹמֵר, הֱוֵי מַגָּע: \n",
    "לְמַעְלָה מִזּוֹ. מֵאָה וְעֶשְׂרִים אַמָּה, לֹא יָבִיא בְמָה, הֲרֵינִי נָזִיר אִם אָמַר, הֵן הָרִאשׁוֹנִים. בָּהּ יְדִיעָה בַתְּחִלָּה, בֵּין בַּתְּחִלָּה, דִּבְרֵי רַבִּי מֵאִיר, לֹא נִבְרָא בֶן שִׁבְעָה. וְהָאֲבָנִים טְהוֹרִים, וְהַפִּלְפְּלִין, טְהוֹרִין:\n",
    "\n",
    "עֶשֶׂר טֻמְאוֹת פְּנוּפִין, חַיָּב, מִפְּנֵי שֶׁהֵם גִּבּוּחַ שֶׁהִיא תוֹבַעַת, וּבְמַחַט שֶׁנִּטְמָא, דִּבְרֵי רַבִּי מֵאִיר."
   ]
  },
  {
   "cell_type": "code",
   "execution_count": null,
   "metadata": {},
   "outputs": [],
   "source": []
  },
  {
   "cell_type": "markdown",
   "metadata": {},
   "source": [
    "## 4. What's next?"
   ]
  },
  {
   "cell_type": "markdown",
   "metadata": {},
   "source": [
    "Applying to other texts (Talmud is tricky, ) <br>\n",
    "Studying the layers/patterns of RecurrentRav, with visualizations <br>\n",
    "Creating a live website demo, rather than a static notebook <br>"
   ]
  },
  {
   "cell_type": "markdown",
   "metadata": {},
   "source": [
    "I am interested in using this network to study patterns in the Mishnah, and connections between various Rabbis, actions, blessings, and settings. This could be done with visualizations of the network layers, of or many generations of text."
   ]
  },
  {
   "cell_type": "markdown",
   "metadata": {},
   "source": [
    "This technique could also be applied to other texts, such as the Torah or the Mishnah and Gemara jointly. The latter would be tricky to do in a meaningful way, since the two texts are written in different languages and have complicated references. both within the text and in the way that Sefaria combines the two in its Talmud files."
   ]
  },
  {
   "cell_type": "markdown",
   "metadata": {},
   "source": [
    "Obviously this notebook is a limited way to present this work; the ideal would be an interactive and graphical website, where a user can input some Hebrew text and generate a RecurrentRav output of a desired length. The user could also play with the RR parameters, selecting how random or ordered they want the process to be; I have maintained ordered generation for this notebook, but Tensorflow allows users to tune how unpredictable their outputs will be. This website could also include some of the visualizations described above."
   ]
  },
  {
   "cell_type": "markdown",
   "metadata": {},
   "source": [
    "## 5. More Selections from RecurrentRav, with choice English excerpts."
   ]
  },
  {
   "cell_type": "code",
   "execution_count": null,
   "metadata": {},
   "outputs": [],
   "source": []
  }
 ],
 "metadata": {
  "kernelspec": {
   "display_name": "Python 3",
   "language": "python",
   "name": "python3"
  },
  "language_info": {
   "codemirror_mode": {
    "name": "ipython",
    "version": 3
   },
   "file_extension": ".py",
   "mimetype": "text/x-python",
   "name": "python",
   "nbconvert_exporter": "python",
   "pygments_lexer": "ipython3",
   "version": "3.7.5"
  }
 },
 "nbformat": 4,
 "nbformat_minor": 2
}
